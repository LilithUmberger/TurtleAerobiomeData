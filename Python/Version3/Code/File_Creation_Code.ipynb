{
  "nbformat": 4,
  "nbformat_minor": 0,
  "metadata": {
    "colab": {
      "provenance": [],
      "collapsed_sections": [
        "6cWpMjm2yQ2Y",
        "xivz4af8vWN2",
        "797-QH9rvhoI",
        "EwasQ_mkx8r9"
      ],
      "authorship_tag": "ABX9TyO8nzwcTUXDzF7Xddp4vGF3",
      "include_colab_link": true
    },
    "kernelspec": {
      "name": "python3",
      "display_name": "Python 3"
    },
    "language_info": {
      "name": "python"
    }
  },
  "cells": [
    {
      "cell_type": "markdown",
      "metadata": {
        "id": "view-in-github",
        "colab_type": "text"
      },
      "source": [
        "<a href=\"https://colab.research.google.com/github/LilithUmberger/TurtleAerobiomeData/blob/Code-and-Output/File_Creation_Code.ipynb\" target=\"_parent\"><img src=\"https://colab.research.google.com/assets/colab-badge.svg\" alt=\"Open In Colab\"/></a>"
      ]
    },
    {
      "cell_type": "markdown",
      "source": [
        "Be sure to set the runtime to run all in order to get everything necessary for the entire code!"
      ],
      "metadata": {
        "id": "pQs4N1LovsEI"
      }
    },
    {
      "cell_type": "markdown",
      "source": [
        "# Before Processing Imports"
      ],
      "metadata": {
        "id": "6cWpMjm2yQ2Y"
      }
    },
    {
      "cell_type": "code",
      "source": [
        "#Importing needed modules\n",
        "\n",
        "import csv\n",
        "import os\n",
        "from os import listdir\n",
        "import shutil"
      ],
      "metadata": {
        "id": "mRRxzzJ9Nb-U"
      },
      "execution_count": null,
      "outputs": []
    },
    {
      "cell_type": "code",
      "execution_count": null,
      "metadata": {
        "id": "y4E5w0pW5X_9",
        "colab": {
          "base_uri": "https://localhost:8080/"
        },
        "outputId": "fea80dbe-7359-41f3-fa8d-b10553173c22"
      },
      "outputs": [
        {
          "output_type": "stream",
          "name": "stdout",
          "text": [
            "rm: cannot remove 'Fifty': Is a directory\n",
            "rm: cannot remove 'PAMatrices': Is a directory\n",
            "rm: cannot remove 'PAMatrices50': Is a directory\n",
            "rm: cannot remove 'TurtleAerobiomeData': Is a directory\n",
            "rm: cannot remove 'Twenty': Is a directory\n",
            "Cloning into 'TurtleAerobiomeData'...\n",
            "remote: Enumerating objects: 602, done.\u001b[K\n",
            "remote: Counting objects: 100% (217/217), done.\u001b[K\n",
            "remote: Compressing objects: 100% (128/128), done.\u001b[K\n",
            "remote: Total 602 (delta 113), reused 83 (delta 83), pack-reused 385 (from 1)\u001b[K\n",
            "Receiving objects: 100% (602/602), 2.39 MiB | 9.23 MiB/s, done.\n",
            "Resolving deltas: 100% (210/210), done.\n"
          ]
        }
      ],
      "source": [
        "#Removing all previous files and directories and starting fresh with the\n",
        "#imported data and empty directories for created files\n",
        "\n",
        "!rm *\n",
        "for root, dirs, files in os.walk('.', topdown=False):\n",
        "    for name in dirs:\n",
        "        shutil.rmtree(os.path.join(root, name))\n",
        "!git clone -b Samples https://github.com/LilithUmberger/TurtleAerobiomeData.git\n",
        "!mkdir '/content/Twenty'\n",
        "!mkdir '/content/PAMatrices'\n",
        "!mkdir '/content/PAMatrices50'\n",
        "!mkdir '/content/Fifty'"
      ]
    },
    {
      "cell_type": "markdown",
      "source": [
        "# Top Twenty Microbiota Each Sample"
      ],
      "metadata": {
        "id": "xivz4af8vWN2"
      }
    },
    {
      "cell_type": "code",
      "source": [
        "#Needed variables\n",
        "\n",
        "collected = []\n",
        "filtered = []\n",
        "toplis = []\n",
        "sublis = []\n",
        "filis = []\n",
        "ficomp = []"
      ],
      "metadata": {
        "id": "kqo_v8yx50g2"
      },
      "execution_count": null,
      "outputs": []
    },
    {
      "cell_type": "code",
      "source": [
        "#This function opens the files that are given to it through the directory, takes\n",
        "#out the names, percents, and reads, sorts them by reads, removes items that are\n",
        "#not names of the microbiota of interest, and creates new files with the names,\n",
        "#percents, and reads of the top twenty of the sample\n",
        "\n",
        "def filecreate(filename,collected,filtered,ficomp):\n",
        "  working = open(filename,'r')\n",
        "  for line in working:\n",
        "    cols = line.split()\n",
        "    percent = cols[1]\n",
        "    read = cols[2]\n",
        "    name = ''\n",
        "    for word in range(len(cols[4:])):\n",
        "      name = name + ' ' + cols[word+4]\n",
        "    collected.append((name,percent,read))\n",
        "    name = ''\n",
        "  working.close()\n",
        "  titles = collected[0]\n",
        "  collected.remove(titles)\n",
        "  collected.sort(key=lambda tup: int(tup[2]),reverse=True)\n",
        "  for item in collected:\n",
        "    if 'unclassified' in item[0]:\n",
        "      continue\n",
        "    if 'cannot' in item[0]:\n",
        "      continue\n",
        "    if ('Viruses' in item[0]) and ('Bac' in filename):\n",
        "      continue\n",
        "    filtered.append(item)\n",
        "  collected = filtered\n",
        "  split = filename.split('/')\n",
        "  filnam = split[4]\n",
        "  fidir = f'/content/Twenty/{filnam}.csv'\n",
        "  ficomp.append(fidir)\n",
        "  writing = open(fidir,'w', encoding='UTF8', newline='')\n",
        "  writer = csv.writer(writing)\n",
        "  writer.writerow(titles)\n",
        "  for tup in range(0,20):\n",
        "    linewrite = list(collected[tup])\n",
        "    writer.writerow(linewrite)\n",
        "  writing.close()"
      ],
      "metadata": {
        "id": "13mTuo4cORI8"
      },
      "execution_count": null,
      "outputs": []
    },
    {
      "cell_type": "code",
      "source": [
        "#This goes through the imported directory and looks at all the files in that\n",
        "#directory, using the function mentioned above, to create a top twenty\n",
        "#microbiota list for each sample as a csv file\n",
        "\n",
        "directory = '/content/TurtleAerobiomeData'\n",
        "for topfolder in os.listdir(directory):\n",
        "  if ('.git' not in topfolder):\n",
        "    topfoldername = directory + '/' + topfolder\n",
        "    if topfoldername not in toplis:\n",
        "      toplis.append(topfoldername)\n",
        "      for subfolder in os.listdir(topfoldername):\n",
        "        subfoldername = topfoldername + '/' + subfolder\n",
        "        if subfoldername not in sublis:\n",
        "          sublis.append(subfoldername)\n",
        "          for file in os.listdir(subfoldername):\n",
        "            filename = subfoldername + '/' + file\n",
        "            if filename not in filis:\n",
        "              filis.append(filename)\n",
        "              filecreate(filename,collected,filtered,ficomp)\n",
        "              collected = []\n",
        "              filtered = []"
      ],
      "metadata": {
        "id": "AY5OjA9b5rKC"
      },
      "execution_count": null,
      "outputs": []
    },
    {
      "cell_type": "markdown",
      "source": [
        "# Presence Absence Matrices Each Sample for 20"
      ],
      "metadata": {
        "id": "797-QH9rvhoI"
      }
    },
    {
      "cell_type": "code",
      "source": [
        "#This is taking all the files created in the previous step and is adding a short\n",
        "#description, the name of the file, and the name of the microbiota of interest\n",
        "#from the file\n",
        "\n",
        "totalis = []\n",
        "namelis = []\n",
        "\n",
        "for dir in ficomp:\n",
        "  hold = dir.split('/')\n",
        "  fname = hold[3]\n",
        "  dohold = fname.split('.')\n",
        "  name = dohold[0]\n",
        "  namelis.append(name)\n",
        "  extract = open(dir,'r')\n",
        "  next(extract)\n",
        "  for line in extract:\n",
        "    cols = line.split(',')\n",
        "    if ('Bac' in name) and ('Turtle' in name):\n",
        "      description = 'BT'\n",
        "      tup = (description,name,cols[0])\n",
        "      totalis.append(tup)\n",
        "    elif ('Vir' in name) and ('Turtle' in name):\n",
        "      description = 'VT'\n",
        "      tup = (description,name,cols[0])\n",
        "      totalis.append(tup)\n",
        "    elif ('Bac' in name) and ('Air' in name):\n",
        "      description = 'BA'\n",
        "      tup = (description,name,cols[0])\n",
        "      totalis.append(tup)\n",
        "    elif ('Vir' in name) and ('Air' in name):\n",
        "      description = 'VA'\n",
        "      tup = (description,name,cols[0])\n",
        "      totalis.append(tup)\n",
        "  extract.close()"
      ],
      "metadata": {
        "id": "Grap96s8ovxc"
      },
      "execution_count": null,
      "outputs": []
    },
    {
      "cell_type": "code",
      "source": [
        "#This is making four lists using the descriptions added above\n",
        "\n",
        "bt = []\n",
        "vt = []\n",
        "ba = []\n",
        "va = []\n",
        "ball = []\n",
        "vall = []\n",
        "\n",
        "for item in totalis:\n",
        "  if (item[0] == 'BT') and (item[2] not in bt):\n",
        "    bt.append(item[2])\n",
        "    ball.append(item[2])\n",
        "  elif (item[0] == 'VT') and (item[2] not in vt):\n",
        "    vt.append(item[2])\n",
        "    vall.append(item[2])\n",
        "  elif (item[0] == 'BA') and (item[2] not in ba):\n",
        "    ba.append(item[2])\n",
        "    ball.append(item[2])\n",
        "  elif (item[0] == 'VA') and (item[2] not in va):\n",
        "    va.append(item[2])\n",
        "    vall.append(item[2])"
      ],
      "metadata": {
        "id": "-2wbQelToEvR"
      },
      "execution_count": null,
      "outputs": []
    },
    {
      "cell_type": "code",
      "source": [
        "#This is going through the list that was created in the cell two up, looking at\n",
        "#the list created above, and if the item in the first list is present in the\n",
        "#second list, adding a 1 to the thing in the first list (if not a zero is added)\n",
        "\n",
        "templis = []\n",
        "edtot = []\n",
        "comptot = []\n",
        "\n",
        "for name in namelis:\n",
        "  for item in totalis:\n",
        "    if item[1] == name:\n",
        "      templis.append(item[2])\n",
        "  if ('Bac' in name) and ('Turtle' in name):\n",
        "    for thing in bt:\n",
        "      if thing in templis:\n",
        "        tup = (name,thing,1)\n",
        "        edtot.append(tup)\n",
        "      else:\n",
        "        tup = (name,thing,0)\n",
        "        edtot.append(tup)\n",
        "  elif ('Vir' in name) and ('Turtle' in name):\n",
        "    for thing in vt:\n",
        "      if thing in templis:\n",
        "        tup = (name,thing,1)\n",
        "        edtot.append(tup)\n",
        "      else:\n",
        "        tup = (name,thing,0)\n",
        "        edtot.append(tup)\n",
        "  elif ('Bac' in name) and ('Air' in name):\n",
        "    for thing in ba:\n",
        "      if thing in templis:\n",
        "        tup = (name,thing,1)\n",
        "        edtot.append(tup)\n",
        "      else:\n",
        "        tup = (name,thing,0)\n",
        "        edtot.append(tup)\n",
        "  elif ('Vir' in name) and ('Air' in name):\n",
        "    for thing in va:\n",
        "      if thing in templis:\n",
        "        tup = (name,thing,1)\n",
        "        edtot.append(tup)\n",
        "      else:\n",
        "        tup = (name,thing,0)\n",
        "        edtot.append(tup)\n",
        "  templis = []\n",
        "\n",
        "for name in namelis:\n",
        "  for item in totalis:\n",
        "    if item[1] == name:\n",
        "      templis.append(item[2])\n",
        "  if ('Bac' in name):\n",
        "    for thing in ball:\n",
        "      if thing in templis:\n",
        "        tup = (name,thing,1)\n",
        "        comptot.append(tup)\n",
        "      else:\n",
        "        tup = (name,thing,0)\n",
        "        comptot.append(tup)\n",
        "  elif ('Vir' in name):\n",
        "    for thing in vall:\n",
        "      if thing in templis:\n",
        "        tup = (name,thing,1)\n",
        "        comptot.append(tup)\n",
        "      else:\n",
        "        tup = (name,thing,0)\n",
        "        comptot.append(tup)\n",
        "  templis = []"
      ],
      "metadata": {
        "id": "BF1KAeeAfUkc"
      },
      "execution_count": null,
      "outputs": []
    },
    {
      "cell_type": "code",
      "source": [
        "#This block is taking each sample's data that was found in edtot and placing it\n",
        "#into a file for processing with R\n",
        "\n",
        "finam = []\n",
        "reedtot = sorted(edtot, key=lambda x: x[1])\n",
        "for name in namelis:\n",
        "  fi = f'/content/PAMatrices/{name}PA.csv'\n",
        "  writing = open(fi,'w', encoding='UTF8', newline='')\n",
        "  writer = csv.writer(writing)\n",
        "  title = ['Name','P/A']\n",
        "  writer.writerow(title)\n",
        "  for item in reedtot:\n",
        "    if item[0] == name:\n",
        "      tup = (item[1],item[2])\n",
        "      row = list(tup)\n",
        "      writer.writerow(row)\n",
        "  writing.close()\n",
        "  finam.append(fi)\n",
        "\n",
        "finam = []\n",
        "recomptot = sorted(comptot, key=lambda x: x[1])\n",
        "for name in namelis:\n",
        "  fi = f'/content/PAMatrices/{name}FPA.csv'\n",
        "  writing = open(fi,'w', encoding='UTF8', newline='')\n",
        "  writer = csv.writer(writing)\n",
        "  title = ['Name','P/A']\n",
        "  writer.writerow(title)\n",
        "  for item in recomptot:\n",
        "    if item[0] == name:\n",
        "      tup = (item[1],item[2])\n",
        "      row = list(tup)\n",
        "      writer.writerow(row)\n",
        "  writing.close()\n",
        "  finam.append(fi)"
      ],
      "metadata": {
        "id": "fZHKBUkDsOAO"
      },
      "execution_count": null,
      "outputs": []
    },
    {
      "cell_type": "markdown",
      "source": [
        "# Top 50 Microbiota Each Sample"
      ],
      "metadata": {
        "id": "WbQbE9dd5uMh"
      }
    },
    {
      "cell_type": "code",
      "source": [
        "#Needed variables\n",
        "\n",
        "collected = []\n",
        "filtered = []\n",
        "toplis = []\n",
        "sublis = []\n",
        "filis = []\n",
        "ficomp = []"
      ],
      "metadata": {
        "id": "vClclEkj8Hk-"
      },
      "execution_count": null,
      "outputs": []
    },
    {
      "cell_type": "code",
      "source": [
        "#This function opens the files that are given to it through the directory, takes\n",
        "#out the names, percents, and reads, sorts them by reads, removes items that are\n",
        "#not names of the microbiota of interest, and creates new files with the names,\n",
        "#percents, and reads of the top fifty of the sample\n",
        "\n",
        "def filecreate(filename,collected,filtered,ficomp):\n",
        "  working = open(filename,'r')\n",
        "  for line in working:\n",
        "    cols = line.split()\n",
        "    percent = cols[1]\n",
        "    read = cols[2]\n",
        "    name = ''\n",
        "    for word in range(len(cols[4:])):\n",
        "      name = name + ' ' + cols[word+4]\n",
        "    collected.append((name,percent,read))\n",
        "    name = ''\n",
        "  working.close()\n",
        "  titles = collected[0]\n",
        "  collected.remove(titles)\n",
        "  collected.sort(key=lambda tup: int(tup[2]),reverse=True)\n",
        "  for item in collected:\n",
        "    if 'unclassified' in item[0]:\n",
        "      continue\n",
        "    if 'cannot' in item[0]:\n",
        "      continue\n",
        "    if ('Viruses' in item[0]) and ('Bac' in filename):\n",
        "      continue\n",
        "    filtered.append(item)\n",
        "  collected = filtered\n",
        "  split = filename.split('/')\n",
        "  filnam = split[4]\n",
        "  fidir = f'/content/Fifty/{filnam}.csv'\n",
        "  ficomp.append(fidir)\n",
        "  writing = open(fidir,'w', encoding='UTF8', newline='')\n",
        "  writer = csv.writer(writing)\n",
        "  writer.writerow(titles)\n",
        "  for tup in range(0,50):\n",
        "    linewrite = list(collected[tup])\n",
        "    writer.writerow(linewrite)\n",
        "  writing.close()"
      ],
      "metadata": {
        "id": "-Unx6gYS8Lfk"
      },
      "execution_count": null,
      "outputs": []
    },
    {
      "cell_type": "code",
      "source": [
        "directory = '/content/TurtleAerobiomeData'\n",
        "for topfolder in os.listdir(directory):\n",
        "  if ('.git' not in topfolder):\n",
        "    topfoldername = directory + '/' + topfolder\n",
        "    if topfoldername not in toplis:\n",
        "      toplis.append(topfoldername)\n",
        "      for subfolder in os.listdir(topfoldername):\n",
        "        subfoldername = topfoldername + '/' + subfolder\n",
        "        if subfoldername not in sublis:\n",
        "          sublis.append(subfoldername)\n",
        "          for file in os.listdir(subfoldername):\n",
        "            filename = subfoldername + '/' + file\n",
        "            if filename not in filis:\n",
        "              filis.append(filename)\n",
        "              filecreate(filename,collected,filtered,ficomp)\n",
        "              collected = []\n",
        "              filtered = []"
      ],
      "metadata": {
        "id": "1PQ2yWik8WUo"
      },
      "execution_count": null,
      "outputs": []
    },
    {
      "cell_type": "markdown",
      "source": [
        "# Presence Absence Maticies for Each Sample 50"
      ],
      "metadata": {
        "id": "EmKKGMUJ8i7R"
      }
    },
    {
      "cell_type": "code",
      "source": [
        "#This is taking all the files created in the previous step and is adding a short\n",
        "#description, the name of the file, and the name of the microbiota of interest\n",
        "#from the file\n",
        "\n",
        "totalis = []\n",
        "namelis = []\n",
        "\n",
        "for dir in ficomp:\n",
        "  hold = dir.split('/')\n",
        "  fname = hold[3]\n",
        "  dohold = fname.split('.')\n",
        "  name = dohold[0]\n",
        "  namelis.append(name)\n",
        "  extract = open(dir,'r')\n",
        "  next(extract)\n",
        "  for line in extract:\n",
        "    cols = line.split(',')\n",
        "    if ('Bac' in name) and ('Turtle' in name):\n",
        "      description = 'BT'\n",
        "      tup = (description,name,cols[0])\n",
        "      totalis.append(tup)\n",
        "    elif ('Vir' in name) and ('Turtle' in name):\n",
        "      description = 'VT'\n",
        "      tup = (description,name,cols[0])\n",
        "      totalis.append(tup)\n",
        "    elif ('Bac' in name) and ('Air' in name):\n",
        "      description = 'BA'\n",
        "      tup = (description,name,cols[0])\n",
        "      totalis.append(tup)\n",
        "    elif ('Vir' in name) and ('Air' in name):\n",
        "      description = 'VA'\n",
        "      tup = (description,name,cols[0])\n",
        "      totalis.append(tup)\n",
        "  extract.close()"
      ],
      "metadata": {
        "id": "sY3ZDurF85OW"
      },
      "execution_count": null,
      "outputs": []
    },
    {
      "cell_type": "code",
      "source": [
        "#This is making four lists using the descriptions added above\n",
        "\n",
        "bt = []\n",
        "vt = []\n",
        "ba = []\n",
        "va = []\n",
        "ball = []\n",
        "vall = []\n",
        "\n",
        "for item in totalis:\n",
        "  if (item[0] == 'BT') and (item[2] not in bt):\n",
        "    bt.append(item[2])\n",
        "    ball.append(item[2])\n",
        "  elif (item[0] == 'VT') and (item[2] not in vt):\n",
        "    vt.append(item[2])\n",
        "    vall.append(item[2])\n",
        "  elif (item[0] == 'BA') and (item[2] not in ba):\n",
        "    ba.append(item[2])\n",
        "    ball.append(item[2])\n",
        "  elif (item[0] == 'VA') and (item[2] not in va):\n",
        "    va.append(item[2])\n",
        "    vall.append(item[2])"
      ],
      "metadata": {
        "id": "wKdmSoqo89Oa"
      },
      "execution_count": null,
      "outputs": []
    },
    {
      "cell_type": "code",
      "source": [
        "#This is going through the list that was created in the cell two up, looking at\n",
        "#the list created above, and if the item in the first list is present in the\n",
        "#second list, adding a 1 to the thing in the first list (if not a zero is added)\n",
        "\n",
        "templis = []\n",
        "edtot = []\n",
        "comptot = []\n",
        "\n",
        "for name in namelis:\n",
        "  for item in totalis:\n",
        "    if item[1] == name:\n",
        "      templis.append(item[2])\n",
        "  if ('Bac' in name) and ('Turtle' in name):\n",
        "    for thing in bt:\n",
        "      if thing in templis:\n",
        "        tup = (name,thing,1)\n",
        "        edtot.append(tup)\n",
        "      else:\n",
        "        tup = (name,thing,0)\n",
        "        edtot.append(tup)\n",
        "  elif ('Vir' in name) and ('Turtle' in name):\n",
        "    for thing in vt:\n",
        "      if thing in templis:\n",
        "        tup = (name,thing,1)\n",
        "        edtot.append(tup)\n",
        "      else:\n",
        "        tup = (name,thing,0)\n",
        "        edtot.append(tup)\n",
        "  elif ('Bac' in name) and ('Air' in name):\n",
        "    for thing in ba:\n",
        "      if thing in templis:\n",
        "        tup = (name,thing,1)\n",
        "        edtot.append(tup)\n",
        "      else:\n",
        "        tup = (name,thing,0)\n",
        "        edtot.append(tup)\n",
        "  elif ('Vir' in name) and ('Air' in name):\n",
        "    for thing in va:\n",
        "      if thing in templis:\n",
        "        tup = (name,thing,1)\n",
        "        edtot.append(tup)\n",
        "      else:\n",
        "        tup = (name,thing,0)\n",
        "        edtot.append(tup)\n",
        "  templis = []\n",
        "\n",
        "for name in namelis:\n",
        "  for item in totalis:\n",
        "    if item[1] == name:\n",
        "      templis.append(item[2])\n",
        "  if ('Bac' in name):\n",
        "    for thing in ball:\n",
        "      if thing in templis:\n",
        "        tup = (name,thing,1)\n",
        "        comptot.append(tup)\n",
        "      else:\n",
        "        tup = (name,thing,0)\n",
        "        comptot.append(tup)\n",
        "  elif ('Vir' in name):\n",
        "    for thing in vall:\n",
        "      if thing in templis:\n",
        "        tup = (name,thing,1)\n",
        "        comptot.append(tup)\n",
        "      else:\n",
        "        tup = (name,thing,0)\n",
        "        comptot.append(tup)\n",
        "  templis = []"
      ],
      "metadata": {
        "id": "i-QJbIoI9DnK"
      },
      "execution_count": null,
      "outputs": []
    },
    {
      "cell_type": "code",
      "source": [
        "#This block is taking each sample's data that was found in edtot and placing it\n",
        "#into a file for processing with R\n",
        "\n",
        "finam = []\n",
        "reedtot = sorted(edtot, key=lambda x: x[1])\n",
        "for name in namelis:\n",
        "  fi = f'/content/PAMatrices50/{name}PA.csv'\n",
        "  writing = open(fi,'w', encoding='UTF8', newline='')\n",
        "  writer = csv.writer(writing)\n",
        "  title = ['Name','P/A']\n",
        "  writer.writerow(title)\n",
        "  for item in reedtot:\n",
        "    if item[0] == name:\n",
        "      tup = (item[1],item[2])\n",
        "      row = list(tup)\n",
        "      writer.writerow(row)\n",
        "  writing.close()\n",
        "  finam.append(fi)\n",
        "\n",
        "finam = []\n",
        "recomptot = sorted(comptot, key=lambda x: x[1])\n",
        "for name in namelis:\n",
        "  fi = f'/content/PAMatrices50/{name}FPA.csv'\n",
        "  writing = open(fi,'w', encoding='UTF8', newline='')\n",
        "  writer = csv.writer(writing)\n",
        "  title = ['Name','P/A']\n",
        "  writer.writerow(title)\n",
        "  for item in recomptot:\n",
        "    if item[0] == name:\n",
        "      tup = (item[1],item[2])\n",
        "      row = list(tup)\n",
        "      writer.writerow(row)\n",
        "  writing.close()\n",
        "  finam.append(fi)"
      ],
      "metadata": {
        "id": "ljiKN0uJ9MRz"
      },
      "execution_count": null,
      "outputs": []
    },
    {
      "cell_type": "markdown",
      "source": [
        "# Making Folders Downloadable"
      ],
      "metadata": {
        "id": "EwasQ_mkx8r9"
      }
    },
    {
      "cell_type": "code",
      "source": [
        "#This block compresses the created directories into zip files for downloading\n",
        "\n",
        "twenty = '/content/Twenty'\n",
        "pam = '/content/PAMatrices'\n",
        "fifty = '/content/Fifty'\n",
        "pam50 = '/content/PAMatrices50'\n",
        "zip_path1 = '/content/Twenty.zip'\n",
        "zip_path2 = '/content/PAMatrices.zip'\n",
        "zip_path3 = '/content/Fifty.zip'\n",
        "zip_path4 = '/content/PAMatrices50'\n",
        "\n",
        "shutil.make_archive(zip_path1.replace('.zip', ''), 'zip', twenty)\n",
        "shutil.make_archive(zip_path2.replace('.zip', ''), 'zip', pam)\n",
        "shutil.make_archive(zip_path3.replace('.zip', ''), 'zip', fifty)\n",
        "shutil.make_archive(zip_path4.replace('.zip', ''), 'zip', pam50)"
      ],
      "metadata": {
        "colab": {
          "base_uri": "https://localhost:8080/"
        },
        "id": "7vE8pks7yDzj",
        "outputId": "91fe67ba-2de3-4fe0-e434-b063ae1c4553"
      },
      "execution_count": null,
      "outputs": [
        {
          "output_type": "execute_result",
          "data": {
            "text/plain": [
              "'/content/PAMatrices50.zip'"
            ],
            "application/vnd.google.colaboratory.intrinsic+json": {
              "type": "string"
            }
          },
          "metadata": {},
          "execution_count": 51
        }
      ]
    }
  ]
}
