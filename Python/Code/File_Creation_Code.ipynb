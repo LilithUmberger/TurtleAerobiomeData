{
  "nbformat": 4,
  "nbformat_minor": 0,
  "metadata": {
    "colab": {
      "provenance": [],
      "collapsed_sections": [
        "6cWpMjm2yQ2Y",
        "xivz4af8vWN2",
        "797-QH9rvhoI"
      ],
      "authorship_tag": "ABX9TyOqUu6fvWToNn9XU74daQ92",
      "include_colab_link": true
    },
    "kernelspec": {
      "name": "python3",
      "display_name": "Python 3"
    },
    "language_info": {
      "name": "python"
    }
  },
  "cells": [
    {
      "cell_type": "markdown",
      "metadata": {
        "id": "view-in-github",
        "colab_type": "text"
      },
      "source": [
        "<a href=\"https://colab.research.google.com/github/LilithUmberger/TurtleAerobiomeData/blob/Code-and-Output/File_Creation_Code.ipynb\" target=\"_parent\"><img src=\"https://colab.research.google.com/assets/colab-badge.svg\" alt=\"Open In Colab\"/></a>"
      ]
    },
    {
      "cell_type": "markdown",
      "source": [
        "Be sure to set the runtime to run all in order to get everything necessary for the entire code!"
      ],
      "metadata": {
        "id": "pQs4N1LovsEI"
      }
    },
    {
      "cell_type": "markdown",
      "source": [
        "# Before Processing Imports"
      ],
      "metadata": {
        "id": "6cWpMjm2yQ2Y"
      }
    },
    {
      "cell_type": "code",
      "source": [
        "#Importing needed modules\n",
        "\n",
        "import csv\n",
        "import os\n",
        "from os import listdir\n",
        "import shutil"
      ],
      "metadata": {
        "id": "mRRxzzJ9Nb-U"
      },
      "execution_count": 25,
      "outputs": []
    },
    {
      "cell_type": "code",
      "execution_count": 26,
      "metadata": {
        "id": "y4E5w0pW5X_9",
        "colab": {
          "base_uri": "https://localhost:8080/"
        },
        "outputId": "c8299cb0-1761-412a-df19-008fec34948c"
      },
      "outputs": [
        {
          "output_type": "stream",
          "name": "stdout",
          "text": [
            "rm: cannot remove '*': No such file or directory\n",
            "Cloning into 'TurtleAerobiomeData'...\n",
            "remote: Enumerating objects: 421, done.\u001b[K\n",
            "remote: Counting objects: 100% (275/275), done.\u001b[K\n",
            "remote: Compressing objects: 100% (175/175), done.\u001b[K\n",
            "remote: Total 421 (delta 128), reused 190 (delta 90), pack-reused 146 (from 1)\u001b[K\n",
            "Receiving objects: 100% (421/421), 1.56 MiB | 12.04 MiB/s, done.\n",
            "Resolving deltas: 100% (180/180), done.\n"
          ]
        }
      ],
      "source": [
        "#Removing all previous files and directories and starting fresh with the\n",
        "#imported data and empty directories for created files\n",
        "\n",
        "!rm *\n",
        "for root, dirs, files in os.walk('.', topdown=False):\n",
        "    for name in dirs:\n",
        "        shutil.rmtree(os.path.join(root, name))\n",
        "!git clone -b Samples https://github.com/LilithUmberger/TurtleAerobiomeData.git\n",
        "!mkdir '/content/Twenty'\n",
        "!mkdir '/content/PAMatrices'"
      ]
    },
    {
      "cell_type": "markdown",
      "source": [
        "# Top Twenty Microbiota Each Sample"
      ],
      "metadata": {
        "id": "xivz4af8vWN2"
      }
    },
    {
      "cell_type": "code",
      "source": [
        "#Needed variables\n",
        "\n",
        "collected = []\n",
        "filtered = []\n",
        "toplis = []\n",
        "sublis = []\n",
        "filis = []\n",
        "ficomp = []"
      ],
      "metadata": {
        "id": "kqo_v8yx50g2"
      },
      "execution_count": 27,
      "outputs": []
    },
    {
      "cell_type": "code",
      "source": [
        "#This function opens the files that are given to it through the directory, takes\n",
        "#out the names, percents, and reads, sorts them by reads, removes items that are\n",
        "#not names of the microbiota of interest, and creates new files with the names,\n",
        "#percents, and reads of the top twenty of the sample\n",
        "\n",
        "def filecreate(filename,collected,filtered,ficomp):\n",
        "  working = open(filename,'r')\n",
        "  for line in working:\n",
        "    cols = line.split()\n",
        "    percent = cols[1]\n",
        "    read = cols[2]\n",
        "    name = ''\n",
        "    for word in range(len(cols[4:])):\n",
        "      name = name + ' ' + cols[word+4]\n",
        "    collected.append((name,percent,read))\n",
        "    name = ''\n",
        "  working.close()\n",
        "  titles = collected[0]\n",
        "  collected.remove(titles)\n",
        "  collected.sort(key=lambda tup: int(tup[2]),reverse=True)\n",
        "  for item in collected:\n",
        "    if 'unclassified' in item[0]:\n",
        "      continue\n",
        "    if 'cannot' in item[0]:\n",
        "      continue\n",
        "    if ('Viruses' in item[0]) and ('Bac' in filename):\n",
        "      continue\n",
        "    filtered.append(item)\n",
        "  collected = filtered\n",
        "  split = filename.split('/')\n",
        "  filnam = split[4]\n",
        "  fidir = f'/content/Twenty/{filnam}.csv'\n",
        "  ficomp.append(fidir)\n",
        "  writing = open(fidir,'w', encoding='UTF8', newline='')\n",
        "  writer = csv.writer(writing)\n",
        "  writer.writerow(titles)\n",
        "  for tup in range(0,20):\n",
        "    linewrite = list(collected[tup])\n",
        "    writer.writerow(linewrite)\n",
        "  writing.close()"
      ],
      "metadata": {
        "id": "13mTuo4cORI8"
      },
      "execution_count": 28,
      "outputs": []
    },
    {
      "cell_type": "code",
      "source": [
        "#This goes through the imported directory and looks at all the files in that\n",
        "#directory, using the function mentioned above, to create a top twenty\n",
        "#microbiota list for each sample as a csv file\n",
        "\n",
        "directory = '/content/TurtleAerobiomeData'\n",
        "for topfolder in os.listdir(directory):\n",
        "  if ('.git' not in topfolder):\n",
        "    topfoldername = directory + '/' + topfolder\n",
        "    if topfoldername not in toplis:\n",
        "      toplis.append(topfoldername)\n",
        "      for subfolder in os.listdir(topfoldername):\n",
        "        subfoldername = topfoldername + '/' + subfolder\n",
        "        if subfoldername not in sublis:\n",
        "          sublis.append(subfoldername)\n",
        "          for file in os.listdir(subfoldername):\n",
        "            filename = subfoldername + '/' + file\n",
        "            if filename not in filis:\n",
        "              filis.append(filename)\n",
        "              filecreate(filename,collected,filtered,ficomp)\n",
        "              collected = []\n",
        "              filtered = []"
      ],
      "metadata": {
        "id": "AY5OjA9b5rKC"
      },
      "execution_count": 29,
      "outputs": []
    },
    {
      "cell_type": "markdown",
      "source": [
        "# Presence Absence Matrices Each Sample"
      ],
      "metadata": {
        "id": "797-QH9rvhoI"
      }
    },
    {
      "cell_type": "code",
      "source": [
        "#This is taking all the files created in the previous step and is adding a short\n",
        "#description, the name of the file, and the name of the microbiota of interest\n",
        "#from the file\n",
        "\n",
        "totalis = []\n",
        "namelis = []\n",
        "\n",
        "for dir in ficomp:\n",
        "  hold = dir.split('/')\n",
        "  fname = hold[3]\n",
        "  dohold = fname.split('.')\n",
        "  name = dohold[0]\n",
        "  namelis.append(name)\n",
        "  extract = open(dir,'r')\n",
        "  next(extract)\n",
        "  for line in extract:\n",
        "    cols = line.split(',')\n",
        "    if ('Bac' in name) and ('Turtle' in name):\n",
        "      description = 'BT'\n",
        "      tup = (description,name,cols[0])\n",
        "      totalis.append(tup)\n",
        "    elif ('Vir' in name) and ('Turtle' in name):\n",
        "      description = 'VT'\n",
        "      tup = (description,name,cols[0])\n",
        "      totalis.append(tup)\n",
        "    elif ('Bac' in name) and ('Air' in name):\n",
        "      description = 'BA'\n",
        "      tup = (description,name,cols[0])\n",
        "      totalis.append(tup)\n",
        "    elif ('Vir' in name) and ('Air' in name):\n",
        "      description = 'VA'\n",
        "      tup = (description,name,cols[0])\n",
        "      totalis.append(tup)\n",
        "  extract.close()"
      ],
      "metadata": {
        "id": "Grap96s8ovxc"
      },
      "execution_count": 30,
      "outputs": []
    },
    {
      "cell_type": "code",
      "source": [
        "#This is making four lists using the descriptions added above\n",
        "\n",
        "bt = []\n",
        "vt = []\n",
        "ba = []\n",
        "va = []\n",
        "\n",
        "for item in totalis:\n",
        "  if (item[0] == 'BT') and (item[2] not in bt):\n",
        "    bt.append(item[2])\n",
        "  elif (item[0] == 'VT') and (item[2] not in vt):\n",
        "    vt.append(item[2])\n",
        "  elif (item[0] == 'BA') and (item[2] not in ba):\n",
        "    ba.append(item[2])\n",
        "  elif (item[0] == 'VA') and (item[2] not in va):\n",
        "    va.append(item[2])"
      ],
      "metadata": {
        "id": "-2wbQelToEvR"
      },
      "execution_count": 31,
      "outputs": []
    },
    {
      "cell_type": "code",
      "source": [
        "#This is going through the list that was created in the cell two up, looking at\n",
        "#the list created above, and if the item in the first list is present in the\n",
        "#second list, adding a 1 to the thing in the first list (if not a zero is added)\n",
        "\n",
        "templis = []\n",
        "edtot = []\n",
        "for name in namelis:\n",
        "  for item in totalis:\n",
        "    if item[1] == name:\n",
        "      templis.append(item[2])\n",
        "  if ('Bac' in name) and ('Turtle' in name):\n",
        "    for thing in bt:\n",
        "      if thing in templis:\n",
        "        tup = (name,thing,1)\n",
        "        edtot.append(tup)\n",
        "      else:\n",
        "        tup = (name,thing,0)\n",
        "        edtot.append(tup)\n",
        "  elif ('Vir' in name) and ('Turtle' in name):\n",
        "    for thing in vt:\n",
        "      if thing in templis:\n",
        "        tup = (name,thing,1)\n",
        "        edtot.append(tup)\n",
        "      else:\n",
        "        tup = (name,thing,0)\n",
        "        edtot.append(tup)\n",
        "  elif ('Bac' in name) and ('Air' in name):\n",
        "    for thing in ba:\n",
        "      if thing in templis:\n",
        "        tup = (name,thing,1)\n",
        "        edtot.append(tup)\n",
        "      else:\n",
        "        tup = (name,thing,0)\n",
        "        edtot.append(tup)\n",
        "  elif ('Vir' in name) and ('Air' in name):\n",
        "    for thing in va:\n",
        "      if thing in templis:\n",
        "        tup = (name,thing,1)\n",
        "        edtot.append(tup)\n",
        "      else:\n",
        "        tup = (name,thing,0)\n",
        "        edtot.append(tup)\n",
        "  templis = []"
      ],
      "metadata": {
        "id": "BF1KAeeAfUkc"
      },
      "execution_count": 32,
      "outputs": []
    },
    {
      "cell_type": "code",
      "source": [
        "#This block is taking each sample's data that was found in edtot and placing it\n",
        "#into a file for processing with R\n",
        "\n",
        "finam = []\n",
        "reedtot = sorted(edtot, key=lambda x: x[1])\n",
        "for name in namelis:\n",
        "  fi = f'/content/PAMatrices/{name}PA.csv'\n",
        "  writing = open(fi,'w', encoding='UTF8', newline='')\n",
        "  writer = csv.writer(writing)\n",
        "  title = ['Name','P/A']\n",
        "  writer.writerow(title)\n",
        "  for item in reedtot:\n",
        "    if item[0] == name:\n",
        "      tup = (item[1],item[2])\n",
        "      row = list(tup)\n",
        "      writer.writerow(row)\n",
        "  writing.close()\n",
        "  finam.append(fi)"
      ],
      "metadata": {
        "id": "fZHKBUkDsOAO"
      },
      "execution_count": 33,
      "outputs": []
    },
    {
      "cell_type": "markdown",
      "source": [
        "# Making Folders Downloadable"
      ],
      "metadata": {
        "id": "EwasQ_mkx8r9"
      }
    },
    {
      "cell_type": "code",
      "source": [
        "#This block compresses the created directories into zip files for downloading\n",
        "\n",
        "twenty = '/content/Twenty'\n",
        "pam = '/content/PAMatrices'\n",
        "zip_path1 = '/content/Twenty.zip'\n",
        "zip_path2 = '/content/PAMatrices.zip'\n",
        "\n",
        "shutil.make_archive(zip_path1.replace('.zip', ''), 'zip', twenty)\n",
        "shutil.make_archive(zip_path2.replace('.zip', ''), 'zip', pam)"
      ],
      "metadata": {
        "colab": {
          "base_uri": "https://localhost:8080/",
          "height": 35
        },
        "id": "7vE8pks7yDzj",
        "outputId": "a82ff38a-ebfd-4f7b-b75b-d7957facf93d"
      },
      "execution_count": 34,
      "outputs": [
        {
          "output_type": "execute_result",
          "data": {
            "text/plain": [
              "'/content/PAMatrices.zip'"
            ],
            "application/vnd.google.colaboratory.intrinsic+json": {
              "type": "string"
            }
          },
          "metadata": {},
          "execution_count": 34
        }
      ]
    }
  ]
}
