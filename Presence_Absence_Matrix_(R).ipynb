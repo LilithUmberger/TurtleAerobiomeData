{
  "cells": [
    {
      "cell_type": "markdown",
      "metadata": {
        "id": "view-in-github",
        "colab_type": "text"
      },
      "source": [
        "<a href=\"https://colab.research.google.com/github/LilithUmberger/TurtleAerobiomeData/blob/Code-and-Output/Presence_Absence_Matrix_(R).ipynb\" target=\"_parent\"><img src=\"https://colab.research.google.com/assets/colab-badge.svg\" alt=\"Open In Colab\"/></a>"
      ]
    },
    {
      "cell_type": "markdown",
      "source": [
        "# Main Code"
      ],
      "metadata": {
        "id": "cOU0y2x0cOXz"
      }
    },
    {
      "cell_type": "code",
      "execution_count": 34,
      "metadata": {
        "colab": {
          "base_uri": "https://localhost:8080/",
          "height": 329
        },
        "id": "vJfnAA9unEhx",
        "outputId": "f2b841e6-5ce6-40bb-d637-12623ad6fc7a"
      },
      "outputs": [
        {
          "output_type": "stream",
          "name": "stderr",
          "text": [
            "Installing package into ‘/usr/local/lib/R/site-library’\n",
            "(as ‘lib’ is unspecified)\n",
            "\n"
          ]
        },
        {
          "output_type": "stream",
          "name": "stdout",
          "text": [
            "cloning into '/content/TurtleAerobiomeData'...\n",
            "Receiving objects:   1% (5/440),   15 kb\n",
            "Receiving objects:  11% (49/440),  535 kb\n",
            "Receiving objects:  21% (93/440),  728 kb\n",
            "Receiving objects:  31% (137/440), 1281 kb\n",
            "Receiving objects:  41% (181/440), 1313 kb\n",
            "Receiving objects:  51% (225/440), 1328 kb\n",
            "Receiving objects:  61% (269/440), 1328 kb\n",
            "Receiving objects:  71% (313/440), 1344 kb\n",
            "Receiving objects:  81% (357/440), 1544 kb\n",
            "Receiving objects:  91% (401/440), 1584 kb\n",
            "Receiving objects: 100% (440/440), 1643 kb, done.\n"
          ]
        },
        {
          "output_type": "display_data",
          "data": {
            "text/plain": [
              "Local:    Code-and-Output /content/TurtleAerobiomeData\n",
              "Remote:   Code-and-Output @ origin (https://github.com/LilithUmberger/TurtleAerobiomeData.git)\n",
              "Head:     [d685a3f] 2024-09-05: Delete Presence_Absence_Matrix_(R).ipynb"
            ]
          },
          "metadata": {}
        }
      ],
      "source": [
        "# Starting fresh with an empty directory and then importing needed files\n",
        "\n",
        "unlink('/content/*',recursive = TRUE)\n",
        "path <- '/content'\n",
        "newfolder <- 'PAUnzipped'\n",
        "newpath <- file.path(path,newfolder)\n",
        "dir.create(newpath)\n",
        "newfolder2 <- 'TurtleAerobiomeData'\n",
        "newpath2 <- file.path(path,newfolder2)\n",
        "dir.create(newpath2)\n",
        "install.packages('git2r')\n",
        "library(git2r)\n",
        "url <- 'https://github.com/LilithUmberger/TurtleAerobiomeData.git'\n",
        "path2 <- '/content/TurtleAerobiomeData'\n",
        "bn <- 'Code-and-Output'\n",
        "clone(url, path2, branch = bn)\n",
        "zip <- '/content/TurtleAerobiomeData/Python/Outputs/PAMatrices.zip'\n",
        "out <- '/content/PAUnzipped'\n",
        "unzip(zip,exdir=out)"
      ]
    },
    {
      "cell_type": "code",
      "execution_count": 35,
      "metadata": {
        "id": "spQpiRg4X8bV"
      },
      "outputs": [],
      "source": [
        "# Function creating individual data frames of each type of sample\n",
        "\n",
        "combo <- function(fpath,xfile)\n",
        "{fpname <- as.character(fpath)\n",
        "fpath <- read.csv(fpath)\n",
        "\n",
        "\n",
        "if (grepl('Bac',fpname))\n",
        "{fsplit <- strsplit(fpname,'/')\n",
        "fucname <- fsplit[[1]][4]\n",
        "fucname <- as.character(fucname)\n",
        "fname <- gsub('BacPA.csv','',fucname)}\n",
        "else if (grepl('Vir',fpname))\n",
        "{fsplit <- strsplit(fpname,'/')\n",
        "fucname <- fsplit[[1]][4]\n",
        "fucname <- as.character(fucname)\n",
        "fname <- gsub('VirPA.csv','',fucname)}\n",
        "\n",
        "if (nrow(xfile) == 0)\n",
        "{xfile <- data.frame(Name = fpath$Name, P.A = fpath$P.A)\n",
        "names(xfile)[names(xfile) == 'P.A'] <- fname}\n",
        "else if (nrow(xfile) != 0)\n",
        "{xfile <- cbind(xfile, fpath$P.A)\n",
        "names(xfile)[names(xfile) == 'fpath$P.A'] <- fname}\n",
        "return(xfile)}"
      ]
    },
    {
      "cell_type": "code",
      "execution_count": 36,
      "metadata": {
        "id": "FYRFVlGPACPF",
        "colab": {
          "base_uri": "https://localhost:8080/",
          "height": 86
        },
        "outputId": "93570b48-9a6b-41b7-dbb0-4434afa70ee5"
      },
      "outputs": [
        {
          "output_type": "display_data",
          "data": {
            "text/html": [
              "<strong>png:</strong> 2"
            ],
            "text/markdown": "**png:** 2",
            "text/latex": "\\textbf{png:} 2",
            "text/plain": [
              "png \n",
              "  2 "
            ]
          },
          "metadata": {}
        },
        {
          "output_type": "display_data",
          "data": {
            "text/html": [
              "<strong>png:</strong> 2"
            ],
            "text/markdown": "**png:** 2",
            "text/latex": "\\textbf{png:} 2",
            "text/plain": [
              "png \n",
              "  2 "
            ]
          },
          "metadata": {}
        },
        {
          "output_type": "display_data",
          "data": {
            "text/html": [
              "<strong>png:</strong> 2"
            ],
            "text/markdown": "**png:** 2",
            "text/latex": "\\textbf{png:} 2",
            "text/plain": [
              "png \n",
              "  2 "
            ]
          },
          "metadata": {}
        },
        {
          "output_type": "display_data",
          "data": {
            "text/html": [
              "<strong>png:</strong> 2"
            ],
            "text/markdown": "**png:** 2",
            "text/latex": "\\textbf{png:} 2",
            "text/plain": [
              "png \n",
              "  2 "
            ]
          },
          "metadata": {}
        }
      ],
      "source": [
        "# Applies the function to each file in the directory and creates a matrix of\n",
        "# the finished dataframes\n",
        "\n",
        "dpath <- '/content/PAUnzipped'\n",
        "files <- list.files(dpath)\n",
        "tbxfile <- data.frame()\n",
        "tvxfile <- data.frame()\n",
        "abxfile <- data.frame()\n",
        "avxfile <- data.frame()\n",
        "\n",
        "for (file in files)\n",
        "{fpath <- file.path(dpath,file)\n",
        "fcpath <- as.character(fpath)\n",
        "if(grepl('Turtle',fcpath) && grepl('Bac',fcpath))\n",
        "{tbxfile <- combo(fpath,tbxfile)}\n",
        "else if(grepl('Turtle',fcpath) && grepl('Vir',fcpath))\n",
        "{tvxfile <- combo(fpath,tvxfile)}\n",
        "else if(grepl('Air',fcpath) && grepl('Bac',fcpath))\n",
        "{abxfile <- combo(fpath,abxfile)}\n",
        "else if(grepl('Air',fcpath) && grepl('Vir',fcpath))\n",
        "{avxfile <- combo(fpath,avxfile)}}\n",
        "\n",
        "library(ggplot2)\n",
        "png('Turtle_Bacteria_PA.png')\n",
        "ggplot(tbxfile,aes(x=Turtle11+Turtle12+Turtle15+Turtle22+Turtle33+Turtle59+\n",
        "  Turtle77+Turtle78+Turtle86+Turtle98,y=Name))+\n",
        "scale_x_continuous(breaks=seq(min(1),max(10),by=1))+\n",
        "geom_tile()\n",
        "dev.off()\n",
        "png('Turtle_Virus_PA.png')\n",
        "ggplot(tvxfile,aes(x=Turtle11+Turtle12+Turtle15+Turtle22+Turtle33+Turtle59+\n",
        "  Turtle77+Turtle78+Turtle86+Turtle98,y=Name))+\n",
        "scale_x_continuous(breaks=seq(min(1),max(10),by=1))+\n",
        "geom_tile()\n",
        "dev.off()\n",
        "png('Air_Bacteria_PA.png')\n",
        "ggplot(abxfile,aes(x=AirF2+AirF3+AirF5+AirL5,y=Name))+\n",
        "scale_x_continuous(breaks=seq(min(1),max(4),by=1))+\n",
        "geom_tile()\n",
        "dev.off()\n",
        "png('Air_Virus_PA.png')\n",
        "ggplot(avxfile,aes(x=AirF2+AirF3+AirF5+AirL5,y=Name))+\n",
        "scale_x_continuous(breaks=seq(min(1),max(4),by=1))+\n",
        "geom_tile()\n",
        "dev.off()"
      ]
    },
    {
      "cell_type": "markdown",
      "source": [
        "# Test Zone"
      ],
      "metadata": {
        "id": "ixo-creucTN0"
      }
    },
    {
      "cell_type": "code",
      "execution_count": 37,
      "metadata": {
        "colab": {
          "base_uri": "https://localhost:8080/"
        },
        "id": "ROZRa3ACqkhs",
        "outputId": "350d6a00-e729-4831-94a2-fea31afec89e"
      },
      "outputs": [
        {
          "output_type": "stream",
          "name": "stdout",
          "text": [
            "                      Name Turtle12 Turtle77\n",
            "1         Acetobacteraceae        0        1\n",
            "2        Acidobacteriaceae        0        0\n",
            "3         Actinomycetaceae        0        0\n",
            "4            Archangiaceae        0        0\n",
            "5          Azospirillaceae        0        0\n",
            "6              Bacillaceae        1        0\n",
            "7        Bradyrhizobiaceae        0        0\n",
            "8        Brevibacteriaceae        1        1\n",
            "9         Chitinophagaceae        0        0\n",
            "10          Comamonadaceae        0        0\n",
            "11      Corynebacteriaceae        1        1\n",
            "12        Dermabacteraceae        0        1\n",
            "13          Dermacoccaceae        0        0\n",
            "14        Dermatophilaceae        0        0\n",
            "15             Dietziaceae        1        0\n",
            "16      Enterobacteriaceae        1        1\n",
            "17         Enterococcaceae        1        0\n",
            "18             Erwiniaceae        1        0\n",
            "19     Geodermatophilaceae        0        1\n",
            "20              Hafniaceae        1        0\n",
            "21       Hymenobacteraceae        0        0\n",
            "22      Intrasporangiaceae        0        0\n",
            "23        Lactobacillaceae        0        0\n",
            "24     Methylobacteriaceae        0        1\n",
            "25       Microbacteriaceae        0        1\n",
            "26          Micrococcaceae        1        1\n",
            "27      Micromonosporaceae        0        1\n",
            "28           Moraxellaceae        1        0\n",
            "29          Morganellaceae        1        0\n",
            "30        Mycobacteriaceae        0        1\n",
            "31           Myxococcaceae        0        0\n",
            "32           Neisseriaceae        0        0\n",
            "33            Nocardiaceae        0        1\n",
            "34         Nocardioidaceae        0        1\n",
            "35        Oxalobacteraceae        0        0\n",
            "36        Paenibacillaceae        0        0\n",
            "37         Pasteurellaceae        1        1\n",
            "38       Pectobacteriaceae        1        0\n",
            "39    Propionibacteriaceae        0        0\n",
            "40  Pseudoalteromonadaceae        1        0\n",
            "41        Pseudomonadaceae        1        0\n",
            "42      Pseudonocardiaceae        0        1\n",
            "43           Rhizopodaceae        0        0\n",
            "44        Rubrobacteraceae        0        1\n",
            "45         Saccotheciaceae        0        0\n",
            "46    Solirubrobacteraceae        0        1\n",
            "47     Sphingobacteriaceae        0        0\n",
            "48       Sphingomonadaceae        0        1\n",
            "49       Staphylococcaceae        1        1\n",
            "50        Streptococcaceae        1        0\n",
            "51       Streptomycetaceae        0        1\n",
            "52    Streptosporangiaceae        0        0\n",
            "53            Vibrionaceae        1        0\n",
            "54           Weeksellaceae        0        0\n",
            "55        Xanthomonadaceae        1        0\n",
            "56            Yersiniaceae        1        0\n"
          ]
        }
      ],
      "source": [
        "# Working for smallest units\n",
        "\n",
        "f1path <- '/content/PAUnzipped/Turtle12BacPA.csv'\n",
        "f2path <- '/content/PAUnzipped/Turtle77BacPA.csv'\n",
        "\n",
        "file1 <- read.csv(f1path)\n",
        "file2 <- read.csv(f2path)\n",
        "\n",
        "f1pname <- as.character(f1path)\n",
        "f1split <- strsplit(f1pname,'/')\n",
        "f1ucname <- f1split[[1]][4]\n",
        "f1ucname <- as.character(f1ucname)\n",
        "f1name <- gsub('BacPA.csv','',f1ucname)\n",
        "\n",
        "f2pname <- as.character(f2path)\n",
        "f2split <- strsplit(f2pname,'/')\n",
        "f2ucname <- f2split[[1]][4]\n",
        "f2ucname <- as.character(f2ucname)\n",
        "f2name <- gsub('BacPA.csv','',f2ucname)\n",
        "\n",
        "names(file1)[names(file1) == 'P.A'] <- f1name\n",
        "file1 <- cbind(file1, file2$P.A)\n",
        "names(file1)[names(file1) == 'file2$P.A'] <- f2name\n",
        "\n",
        "print(file1)"
      ]
    },
    {
      "cell_type": "code",
      "execution_count": 38,
      "metadata": {
        "colab": {
          "base_uri": "https://localhost:8080/",
          "height": 437
        },
        "id": "_mkKAXmFcvSf",
        "outputId": "705fb790-193c-473c-e917-20e3272026ab"
      },
      "outputs": [
        {
          "output_type": "display_data",
          "data": {
            "text/plain": [
              "plot without title"
            ],
            "image/png": "[encoded data removed]"
          },
          "metadata": {
            "image/png": {
              "width": 420,
              "height": 420
            }
          }
        }
      ],
      "source": [
        "# Graphic code for two\n",
        "#png('Graphic_For_Two.png')\n",
        "library(ggplot2)\n",
        "ggplot(file1,aes(x=Turtle12+Turtle77,y=Name))+geom_tile()\n",
        "#dev.off()"
      ]
    }
  ],
  "metadata": {
    "colab": {
      "provenance": [],
      "authorship_tag": "ABX9TyOAZMee6AS4XAn56bkkyvuj",
      "include_colab_link": true
    },
    "kernelspec": {
      "display_name": "R",
      "name": "ir"
    },
    "language_info": {
      "name": "R"
    }
  },
  "nbformat": 4,
  "nbformat_minor": 0
}