{
  "cells": [
    {
      "cell_type": "markdown",
      "metadata": {
        "id": "view-in-github",
        "colab_type": "text"
      },
      "source": [
        "<a href=\"https://colab.research.google.com/github/LilithUmberger/TurtleAerobiomeData/blob/Code-and-Output/Presence_Absence_Matrix_(R).ipynb\" target=\"_parent\"><img src=\"https://colab.research.google.com/assets/colab-badge.svg\" alt=\"Open In Colab\"/></a>"
      ]
    },
    {
      "cell_type": "markdown",
      "source": [
        "# Main Code"
      ],
      "metadata": {
        "id": "cOU0y2x0cOXz"
      }
    },
    {
      "cell_type": "code",
      "execution_count": 30,
      "metadata": {
        "colab": {
          "base_uri": "https://localhost:8080/",
          "height": 382
        },
        "id": "vJfnAA9unEhx",
        "outputId": "a9069dac-e067-4b1f-e884-17a3c86a16ba"
      },
      "outputs": [
        {
          "output_type": "stream",
          "name": "stderr",
          "text": [
            "Installing package into ‘/usr/local/lib/R/site-library’\n",
            "(as ‘lib’ is unspecified)\n",
            "\n",
            "Installing package into ‘/usr/local/lib/R/site-library’\n",
            "(as ‘lib’ is unspecified)\n",
            "\n"
          ]
        },
        {
          "output_type": "stream",
          "name": "stdout",
          "text": [
            "cloning into '/content/TurtleAerobiomeData'...\n",
            "Receiving objects:   1% (7/635),   64 kb\n",
            "Receiving objects:  11% (70/635),  624 kb\n",
            "Receiving objects:  21% (134/635), 1304 kb\n",
            "Receiving objects:  31% (197/635), 1435 kb\n",
            "Receiving objects:  41% (261/635), 1528 kb\n",
            "Receiving objects:  51% (324/635), 1603 kb\n",
            "Receiving objects:  61% (388/635), 1714 kb\n",
            "Receiving objects:  71% (451/635), 1714 kb\n",
            "Receiving objects:  81% (515/635), 1728 kb\n",
            "Receiving objects:  91% (578/635), 2583 kb\n",
            "Receiving objects: 100% (635/635), 2583 kb, done.\n"
          ]
        },
        {
          "output_type": "display_data",
          "data": {
            "text/plain": [
              "Local:    Code-and-Output /content/TurtleAerobiomeData\n",
              "Remote:   Code-and-Output @ origin (https://github.com/LilithUmberger/TurtleAerobiomeData.git)\n",
              "Head:     [3088b0e] 2024-10-01: Create Placeholder"
            ]
          },
          "metadata": {}
        }
      ],
      "source": [
        "# Starting fresh with an empty directory and then importing needed files\n",
        "\n",
        "\n",
        "unlink('/content/*',recursive = TRUE)\n",
        "\n",
        "install.packages('git2r')\n",
        "library(git2r)\n",
        "library(ggplot2)\n",
        "install.packages('reshape2')\n",
        "library(reshape2)\n",
        "\n",
        "path <- '/content'\n",
        "newfolder <- 'PAUnzipped'\n",
        "newpath <- file.path(path,newfolder)\n",
        "dir.create(newpath)\n",
        "newfolder2 <- 'TurtleAerobiomeData'\n",
        "newpath2 <- file.path(path,newfolder2)\n",
        "dir.create(newpath2)\n",
        "newfolder3 <- 'PAUnzipped50'\n",
        "newpath3 <- file.path(path,newfolder3)\n",
        "dir.create(newpath3)\n",
        "newfolder4 <- 'Graphics'\n",
        "newpath4 <- file.path(path,newfolder4)\n",
        "dir.create(newpath4)\n",
        "url <- 'https://github.com/LilithUmberger/TurtleAerobiomeData.git'\n",
        "path2 <- '/content/TurtleAerobiomeData'\n",
        "bn <- 'Code-and-Output'\n",
        "clone(url, path2, branch = bn)\n",
        "zip <- '/content/TurtleAerobiomeData/Python/Version3/Outputs/PAMatrices (1).zip'\n",
        "out <- '/content/PAUnzipped'\n",
        "unzip(zip,exdir=out)\n",
        "zip2 <- '/content/TurtleAerobiomeData/Python/Version3/Outputs/PAMatrices50 (1).zip'\n",
        "out2 <- '/content/PAUnzipped50'\n",
        "unzip(zip2,exdir=out2)"
      ]
    },
    {
      "cell_type": "code",
      "execution_count": 31,
      "metadata": {
        "id": "spQpiRg4X8bV"
      },
      "outputs": [],
      "source": [
        "# Function creating individual data frames of each type of sample\n",
        "\n",
        "combo <- function(fpath,xfile)\n",
        "{fpname <- as.character(fpath)\n",
        "fpath <- read.csv(fpath)\n",
        "\n",
        "\n",
        "if (grepl('Bac',fpname)==TRUE && grepl('FPA',fpname)==FALSE)\n",
        "{fsplit <- strsplit(fpname,'/')\n",
        "fucname <- fsplit[[1]][4]\n",
        "fucname <- as.character(fucname)\n",
        "fname <- gsub('BacPA.csv','',fucname)}\n",
        "else if (grepl('Vir',fpname)==TRUE && grepl('FPA',fpname)==FALSE)\n",
        "{fsplit <- strsplit(fpname,'/')\n",
        "fucname <- fsplit[[1]][4]\n",
        "fucname <- as.character(fucname)\n",
        "fname <- gsub('VirPA.csv','',fucname)}\n",
        "else if (grepl('Bac',fpname)==TRUE && grepl('FPA',fpname)==TRUE)\n",
        "{fsplit <- strsplit(fpname,'/')\n",
        "fucname <- fsplit[[1]][4]\n",
        "fucname <- as.character(fucname)\n",
        "fname <- gsub('BacFPA.csv','',fucname)}\n",
        "else if (grepl('Vir',fpname)==TRUE && grepl('FPA',fpname)==TRUE)\n",
        "{fsplit <- strsplit(fpname,'/')\n",
        "fucname <- fsplit[[1]][4]\n",
        "fucname <- as.character(fucname)\n",
        "fname <- gsub('VirFPA.csv','',fucname)}\n",
        "\n",
        "if (nrow(xfile) == 0)\n",
        "{xfile <- data.frame(Name = fpath$Name, P.A = fpath$P.A)\n",
        "names(xfile)[names(xfile) == 'P.A'] <- fname}\n",
        "else if (nrow(xfile) != 0)\n",
        "{xfile <- cbind(xfile, fpath$P.A)\n",
        "names(xfile)[names(xfile) == 'fpath$P.A'] <- fname}\n",
        "return(xfile)}"
      ]
    },
    {
      "cell_type": "code",
      "execution_count": 32,
      "metadata": {
        "id": "FYRFVlGPACPF",
        "colab": {
          "base_uri": "https://localhost:8080/",
          "height": 295
        },
        "outputId": "1e3ca206-7e22-48a3-80c2-44ee8dd66a6b"
      },
      "outputs": [
        {
          "output_type": "display_data",
          "data": {
            "text/html": [
              "<strong>pdf:</strong> 2"
            ],
            "text/markdown": "**pdf:** 2",
            "text/latex": "\\textbf{pdf:} 2",
            "text/plain": [
              "pdf \n",
              "  2 "
            ]
          },
          "metadata": {}
        },
        {
          "output_type": "display_data",
          "data": {
            "text/html": [
              "<strong>pdf:</strong> 2"
            ],
            "text/markdown": "**pdf:** 2",
            "text/latex": "\\textbf{pdf:} 2",
            "text/plain": [
              "pdf \n",
              "  2 "
            ]
          },
          "metadata": {}
        },
        {
          "output_type": "display_data",
          "data": {
            "text/html": [
              "<strong>pdf:</strong> 2"
            ],
            "text/markdown": "**pdf:** 2",
            "text/latex": "\\textbf{pdf:} 2",
            "text/plain": [
              "pdf \n",
              "  2 "
            ]
          },
          "metadata": {}
        },
        {
          "output_type": "display_data",
          "data": {
            "text/html": [
              "<strong>pdf:</strong> 2"
            ],
            "text/markdown": "**pdf:** 2",
            "text/latex": "\\textbf{pdf:} 2",
            "text/plain": [
              "pdf \n",
              "  2 "
            ]
          },
          "metadata": {}
        },
        {
          "output_type": "stream",
          "name": "stderr",
          "text": [
            "Using Name as id variables\n",
            "\n"
          ]
        },
        {
          "output_type": "display_data",
          "data": {
            "text/html": [
              "<strong>pdf:</strong> 2"
            ],
            "text/markdown": "**pdf:** 2",
            "text/latex": "\\textbf{pdf:} 2",
            "text/plain": [
              "pdf \n",
              "  2 "
            ]
          },
          "metadata": {}
        },
        {
          "output_type": "stream",
          "name": "stderr",
          "text": [
            "Using Name as id variables\n",
            "\n"
          ]
        },
        {
          "output_type": "display_data",
          "data": {
            "text/html": [
              "<strong>pdf:</strong> 2"
            ],
            "text/markdown": "**pdf:** 2",
            "text/latex": "\\textbf{pdf:} 2",
            "text/plain": [
              "pdf \n",
              "  2 "
            ]
          },
          "metadata": {}
        },
        {
          "output_type": "stream",
          "name": "stderr",
          "text": [
            "Using Name as id variables\n",
            "\n"
          ]
        },
        {
          "output_type": "display_data",
          "data": {
            "text/html": [
              "<strong>pdf:</strong> 2"
            ],
            "text/markdown": "**pdf:** 2",
            "text/latex": "\\textbf{pdf:} 2",
            "text/plain": [
              "pdf \n",
              "  2 "
            ]
          },
          "metadata": {}
        },
        {
          "output_type": "stream",
          "name": "stderr",
          "text": [
            "Using Name as id variables\n",
            "\n"
          ]
        },
        {
          "output_type": "display_data",
          "data": {
            "text/html": [
              "<strong>pdf:</strong> 2"
            ],
            "text/markdown": "**pdf:** 2",
            "text/latex": "\\textbf{pdf:} 2",
            "text/plain": [
              "pdf \n",
              "  2 "
            ]
          },
          "metadata": {}
        }
      ],
      "source": [
        "# Applies the function to each file in the directory and creates a matrix of\n",
        "# the finished dataframes for the samples with 20 families\n",
        "\n",
        "dpath <- '/content/PAUnzipped'\n",
        "files <- list.files(dpath)\n",
        "tbxfile <- data.frame()\n",
        "tvxfile <- data.frame()\n",
        "abxfile <- data.frame()\n",
        "avxfile <- data.frame()\n",
        "\n",
        "for (file in files)\n",
        "{fpath <- file.path(dpath,file)\n",
        "fcpath <- as.character(fpath)\n",
        "if(grepl('Turtle',fcpath)==TRUE && grepl('Bac',fcpath)==TRUE && grepl('FPA',fcpath)==FALSE)\n",
        "{tbxfile <- combo(fpath,tbxfile)}\n",
        "else if(grepl('Turtle',fcpath)==TRUE && grepl('Vir',fcpath)==TRUE && grepl('FPA',fcpath)==FALSE)\n",
        "{tvxfile <- combo(fpath,tvxfile)}\n",
        "else if(grepl('Air',fcpath)==TRUE && grepl('Bac',fcpath)==TRUE && grepl('FPA',fcpath)==FALSE)\n",
        "{abxfile <- combo(fpath,abxfile)}\n",
        "else if(grepl('Air',fcpath)==TRUE && grepl('Vir',fcpath)==TRUE && grepl('FPA',fcpath)==FALSE)\n",
        "{avxfile <- combo(fpath,avxfile)}}\n",
        "\n",
        "png('Turtle_Bacteria_Compiled.png')\n",
        "ggplot(tbxfile,aes(x=Turtle11+Turtle12+Turtle15+Turtle22+Turtle33+Turtle59+\n",
        "  Turtle77+Turtle78+Turtle86+Turtle98,y=Name))+\n",
        "scale_x_continuous(breaks=seq(min(1),max(10),by=1))+\n",
        "geom_tile()\n",
        "dev.off()\n",
        "png('Turtle_Virus_Compiled.png')\n",
        "ggplot(tvxfile,aes(x=Turtle11+Turtle12+Turtle15+Turtle22+Turtle33+Turtle59+\n",
        "  Turtle77+Turtle78+Turtle86+Turtle98,y=Name))+\n",
        "scale_x_continuous(breaks=seq(min(1),max(10),by=1))+\n",
        "geom_tile()\n",
        "dev.off()\n",
        "png('Air_Bacteria_Compiled.png')\n",
        "ggplot(abxfile,aes(x=AirF2+AirF3+AirF5+AirL5,y=Name))+\n",
        "scale_x_continuous(breaks=seq(min(1),max(4),by=1))+\n",
        "geom_tile()\n",
        "dev.off()\n",
        "png('Air_Virus_Compiled.png')\n",
        "ggplot(avxfile,aes(x=AirF2+AirF3+AirF5+AirL5,y=Name))+\n",
        "scale_x_continuous(breaks=seq(min(1),max(4),by=1))+\n",
        "geom_tile()\n",
        "dev.off()\n",
        "\n",
        "png('Turtle_Bacteria_PA.png')\n",
        "tbxfile <- melt(tbxfile)\n",
        "ggplot(tbxfile,aes(x=variable,y=Name,fill=value))+geom_tile()\n",
        "dev.off()\n",
        "png('Turtle_Virus_PA.png')\n",
        "tvxfile <- melt(tvxfile)\n",
        "ggplot(tvxfile,aes(x=variable,y=Name,fill=value))+geom_tile()\n",
        "dev.off()\n",
        "png('Air_Bacteria_PA.png')\n",
        "abxfile <- melt(abxfile)\n",
        "ggplot(abxfile,aes(x=variable,y=Name,fill=value))+geom_tile()\n",
        "dev.off()\n",
        "png('Air_Virus_PA.png')\n",
        "avxfile <- melt(avxfile)\n",
        "ggplot(avxfile,aes(x=variable,y=Name,fill=value))+geom_tile()\n",
        "dev.off()"
      ]
    },
    {
      "cell_type": "code",
      "source": [
        "# Applies the function to each file in the directory and creates a matrix of\n",
        "# the finished dataframes for the samples with 50 families\n",
        "\n",
        "dpath <- '/content/PAUnzipped50'\n",
        "files <- list.files(dpath)\n",
        "tbxfile <- data.frame()\n",
        "tvxfile <- data.frame()\n",
        "abxfile <- data.frame()\n",
        "avxfile <- data.frame()\n",
        "\n",
        "for (file in files)\n",
        "{fpath <- file.path(dpath,file)\n",
        "fcpath <- as.character(fpath)\n",
        "if(grepl('Turtle',fcpath)==TRUE && grepl('Bac',fcpath)==TRUE && grepl('FPA',fcpath)==FALSE)\n",
        "{tbxfile <- combo(fpath,tbxfile)}\n",
        "else if(grepl('Turtle',fcpath)==TRUE && grepl('Vir',fcpath)==TRUE && grepl('FPA',fcpath)==FALSE)\n",
        "{tvxfile <- combo(fpath,tvxfile)}\n",
        "else if(grepl('Air',fcpath)==TRUE && grepl('Bac',fcpath)==TRUE && grepl('FPA',fcpath)==FALSE)\n",
        "{abxfile <- combo(fpath,abxfile)}\n",
        "else if(grepl('Air',fcpath)==TRUE && grepl('Vir',fcpath)==TRUE && grepl('FPA',fcpath)==FALSE)\n",
        "{avxfile <- combo(fpath,avxfile)}}\n",
        "\n",
        "setwd('/content/Graphics')\n",
        "png('Turtle_Bacteria_Compiled50.png')\n",
        "ggplot(tbxfile,aes(x=Turtle11+Turtle12+Turtle15+Turtle22+Turtle33+Turtle59+\n",
        "  Turtle77+Turtle78+Turtle86+Turtle98,y=Name))+\n",
        "scale_x_continuous(breaks=seq(min(1),max(10),by=1))+\n",
        "geom_tile()\n",
        "dev.off()\n",
        "png('Turtle_Virus_Compiled50.png')\n",
        "ggplot(tvxfile,aes(x=Turtle11+Turtle12+Turtle15+Turtle22+Turtle33+Turtle59+\n",
        "  Turtle77+Turtle78+Turtle86+Turtle98,y=Name))+\n",
        "scale_x_continuous(breaks=seq(min(1),max(10),by=1))+\n",
        "geom_tile()\n",
        "dev.off()\n",
        "png('Air_Bacteria_Compiled50.png')\n",
        "ggplot(abxfile,aes(x=AirF2+AirF3+AirF5+AirL5,y=Name))+\n",
        "scale_x_continuous(breaks=seq(min(1),max(4),by=1))+\n",
        "geom_tile()\n",
        "dev.off()\n",
        "png('Air_Virus_Compiled50.png')\n",
        "ggplot(avxfile,aes(x=AirF2+AirF3+AirF5+AirL5,y=Name))+\n",
        "scale_x_continuous(breaks=seq(min(1),max(4),by=1))+\n",
        "geom_tile()\n",
        "dev.off()\n",
        "\n",
        "png('Turtle_Bacteria_PA50.png')\n",
        "tbxfile <- melt(tbxfile)\n",
        "ggplot(tbxfile,aes(x=variable,y=Name,fill=value))+geom_tile()\n",
        "dev.off()\n",
        "png('Turtle_Virus_PA50.png')\n",
        "tvxfile <- melt(tvxfile)\n",
        "ggplot(tvxfile,aes(x=variable,y=Name,fill=value))+geom_tile()\n",
        "dev.off()\n",
        "png('Air_Bacteria_PA50.png')\n",
        "abxfile <- melt(abxfile)\n",
        "ggplot(abxfile,aes(x=variable,y=Name,fill=value))+geom_tile()\n",
        "dev.off()\n",
        "png('Air_Virus_PA50.png')\n",
        "avxfile <- melt(avxfile)\n",
        "ggplot(avxfile,aes(x=variable,y=Name,fill=value))+geom_tile()\n",
        "dev.off()\n",
        "setwd('/content')"
      ],
      "metadata": {
        "id": "C9ioO281HYDo",
        "colab": {
          "base_uri": "https://localhost:8080/",
          "height": 295
        },
        "outputId": "2aa7bdee-136f-469c-fd04-640dadbd5f8d"
      },
      "execution_count": 33,
      "outputs": [
        {
          "output_type": "display_data",
          "data": {
            "text/html": [
              "<strong>pdf:</strong> 2"
            ],
            "text/markdown": "**pdf:** 2",
            "text/latex": "\\textbf{pdf:} 2",
            "text/plain": [
              "pdf \n",
              "  2 "
            ]
          },
          "metadata": {}
        },
        {
          "output_type": "display_data",
          "data": {
            "text/html": [
              "<strong>pdf:</strong> 2"
            ],
            "text/markdown": "**pdf:** 2",
            "text/latex": "\\textbf{pdf:} 2",
            "text/plain": [
              "pdf \n",
              "  2 "
            ]
          },
          "metadata": {}
        },
        {
          "output_type": "display_data",
          "data": {
            "text/html": [
              "<strong>pdf:</strong> 2"
            ],
            "text/markdown": "**pdf:** 2",
            "text/latex": "\\textbf{pdf:} 2",
            "text/plain": [
              "pdf \n",
              "  2 "
            ]
          },
          "metadata": {}
        },
        {
          "output_type": "display_data",
          "data": {
            "text/html": [
              "<strong>pdf:</strong> 2"
            ],
            "text/markdown": "**pdf:** 2",
            "text/latex": "\\textbf{pdf:} 2",
            "text/plain": [
              "pdf \n",
              "  2 "
            ]
          },
          "metadata": {}
        },
        {
          "output_type": "stream",
          "name": "stderr",
          "text": [
            "Using Name as id variables\n",
            "\n"
          ]
        },
        {
          "output_type": "display_data",
          "data": {
            "text/html": [
              "<strong>pdf:</strong> 2"
            ],
            "text/markdown": "**pdf:** 2",
            "text/latex": "\\textbf{pdf:} 2",
            "text/plain": [
              "pdf \n",
              "  2 "
            ]
          },
          "metadata": {}
        },
        {
          "output_type": "stream",
          "name": "stderr",
          "text": [
            "Using Name as id variables\n",
            "\n"
          ]
        },
        {
          "output_type": "display_data",
          "data": {
            "text/html": [
              "<strong>pdf:</strong> 2"
            ],
            "text/markdown": "**pdf:** 2",
            "text/latex": "\\textbf{pdf:} 2",
            "text/plain": [
              "pdf \n",
              "  2 "
            ]
          },
          "metadata": {}
        },
        {
          "output_type": "stream",
          "name": "stderr",
          "text": [
            "Using Name as id variables\n",
            "\n"
          ]
        },
        {
          "output_type": "display_data",
          "data": {
            "text/html": [
              "<strong>pdf:</strong> 2"
            ],
            "text/markdown": "**pdf:** 2",
            "text/latex": "\\textbf{pdf:} 2",
            "text/plain": [
              "pdf \n",
              "  2 "
            ]
          },
          "metadata": {}
        },
        {
          "output_type": "stream",
          "name": "stderr",
          "text": [
            "Using Name as id variables\n",
            "\n"
          ]
        },
        {
          "output_type": "display_data",
          "data": {
            "text/html": [
              "<strong>pdf:</strong> 2"
            ],
            "text/markdown": "**pdf:** 2",
            "text/latex": "\\textbf{pdf:} 2",
            "text/plain": [
              "pdf \n",
              "  2 "
            ]
          },
          "metadata": {}
        }
      ]
    },
    {
      "cell_type": "code",
      "source": [
        "# Applies the same concept used above to create our combo graphs\n",
        "\n",
        "dpath <- '/content/PAUnzipped'\n",
        "files <- list.files(dpath)\n",
        "bxfile = data.frame()\n",
        "vxfile = data.frame()\n",
        "\n",
        "for (file in files)\n",
        "{fpath <- file.path(dpath,file)\n",
        "fcpath <- as.character(fpath)\n",
        "if(grepl('Bac',fcpath)==TRUE && grepl('FPA',fcpath)==TRUE)\n",
        "{bxfile <- combo(fpath,bxfile)}\n",
        "else if(grepl('Vir',fcpath)==TRUE && grepl('FPA',fcpath)==TRUE)\n",
        "{vxfile <- combo(fpath,vxfile)}}\n",
        "\n",
        "setwd('/content/Graphics')\n",
        "png('Bacteria_Compiled.png')\n",
        "ggplot(bxfile,aes(x=Turtle11+Turtle12+Turtle15+Turtle22+Turtle33+Turtle59+\n",
        "  Turtle77+Turtle78+Turtle86+Turtle98+AirF2+AirF3+AirF5+AirL5,y=Name))+\n",
        "scale_x_continuous(breaks=seq(min(1),max(14),by=1))+\n",
        "geom_tile()\n",
        "dev.off()\n",
        "png('Virus_Compiled.png')\n",
        "ggplot(vxfile,aes(x=Turtle11+Turtle12+Turtle15+Turtle22+Turtle33+Turtle59+\n",
        "  Turtle77+Turtle78+Turtle86+Turtle98+AirF2+AirF3+AirF5+AirL5,y=Name))+\n",
        "scale_x_continuous(breaks=seq(min(1),max(14),by=1))+\n",
        "geom_tile()\n",
        "dev.off()\n",
        "\n",
        "png('Bacteria_PA.png')\n",
        "bxfile <- melt(bxfile)\n",
        "ggplot(bxfile,aes(x=variable,y=Name,fill=value))+geom_tile()\n",
        "dev.off()\n",
        "png('Virus_PA.png')\n",
        "vxfile <- melt(vxfile)\n",
        "ggplot(vxfile,aes(x=variable,y=Name,fill=value))+geom_tile()\n",
        "dev.off()\n",
        "setwd('/content')\n",
        "\n",
        "dpath <- '/content/PAUnzipped50'\n",
        "files <- list.files(dpath)\n",
        "bxfile = data.frame()\n",
        "vxfile = data.frame()\n",
        "\n",
        "for (file in files)\n",
        "{fpath <- file.path(dpath,file)\n",
        "fcpath <- as.character(fpath)\n",
        "if(grepl('Bac',fcpath)==TRUE && grepl('FPA',fcpath)==TRUE)\n",
        "{bxfile <- combo(fpath,bxfile)}\n",
        "else if(grepl('Vir',fcpath)==TRUE && grepl('FPA',fcpath)==TRUE)\n",
        "{vxfile <- combo(fpath,vxfile)}}\n",
        "\n",
        "setwd('/content/Graphics')\n",
        "png('Bacteria_Compiled50.png')\n",
        "ggplot(bxfile,aes(x=Turtle11+Turtle12+Turtle15+Turtle22+Turtle33+Turtle59+\n",
        "  Turtle77+Turtle78+Turtle86+Turtle98+AirF2+AirF3+AirF5+AirL5,y=Name))+\n",
        "scale_x_continuous(breaks=seq(min(1),max(14),by=1))+\n",
        "geom_tile()\n",
        "dev.off()\n",
        "png('Virus_Compiled50.png')\n",
        "ggplot(vxfile,aes(x=Turtle11+Turtle12+Turtle15+Turtle22+Turtle33+Turtle59+\n",
        "  Turtle77+Turtle78+Turtle86+Turtle98+AirF2+AirF3+AirF5+AirL5,y=Name))+\n",
        "scale_x_continuous(breaks=seq(min(1),max(14),by=1))+\n",
        "geom_tile()\n",
        "dev.off()\n",
        "\n",
        "png('Bacteria_PA50.png')\n",
        "bxfile <- melt(bxfile)\n",
        "ggplot(bxfile,aes(x=variable,y=Name,fill=value))+geom_tile()\n",
        "dev.off()\n",
        "png('Virus_PA50.png')\n",
        "vxfile <- melt(vxfile)\n",
        "ggplot(vxfile,aes(x=variable,y=Name,fill=value))+geom_tile()\n",
        "dev.off()\n",
        "setwd('/content')"
      ],
      "metadata": {
        "id": "H_GvE6atox-w",
        "colab": {
          "base_uri": "https://localhost:8080/",
          "height": 295
        },
        "outputId": "9b172c7a-53f9-4820-9ca9-92ce59dfda20"
      },
      "execution_count": 34,
      "outputs": [
        {
          "output_type": "display_data",
          "data": {
            "text/html": [
              "<strong>pdf:</strong> 2"
            ],
            "text/markdown": "**pdf:** 2",
            "text/latex": "\\textbf{pdf:} 2",
            "text/plain": [
              "pdf \n",
              "  2 "
            ]
          },
          "metadata": {}
        },
        {
          "output_type": "display_data",
          "data": {
            "text/html": [
              "<strong>pdf:</strong> 2"
            ],
            "text/markdown": "**pdf:** 2",
            "text/latex": "\\textbf{pdf:} 2",
            "text/plain": [
              "pdf \n",
              "  2 "
            ]
          },
          "metadata": {}
        },
        {
          "output_type": "stream",
          "name": "stderr",
          "text": [
            "Using Name as id variables\n",
            "\n"
          ]
        },
        {
          "output_type": "display_data",
          "data": {
            "text/html": [
              "<strong>pdf:</strong> 2"
            ],
            "text/markdown": "**pdf:** 2",
            "text/latex": "\\textbf{pdf:} 2",
            "text/plain": [
              "pdf \n",
              "  2 "
            ]
          },
          "metadata": {}
        },
        {
          "output_type": "stream",
          "name": "stderr",
          "text": [
            "Using Name as id variables\n",
            "\n"
          ]
        },
        {
          "output_type": "display_data",
          "data": {
            "text/html": [
              "<strong>pdf:</strong> 2"
            ],
            "text/markdown": "**pdf:** 2",
            "text/latex": "\\textbf{pdf:} 2",
            "text/plain": [
              "pdf \n",
              "  2 "
            ]
          },
          "metadata": {}
        },
        {
          "output_type": "display_data",
          "data": {
            "text/html": [
              "<strong>pdf:</strong> 2"
            ],
            "text/markdown": "**pdf:** 2",
            "text/latex": "\\textbf{pdf:} 2",
            "text/plain": [
              "pdf \n",
              "  2 "
            ]
          },
          "metadata": {}
        },
        {
          "output_type": "display_data",
          "data": {
            "text/html": [
              "<strong>pdf:</strong> 2"
            ],
            "text/markdown": "**pdf:** 2",
            "text/latex": "\\textbf{pdf:} 2",
            "text/plain": [
              "pdf \n",
              "  2 "
            ]
          },
          "metadata": {}
        },
        {
          "output_type": "stream",
          "name": "stderr",
          "text": [
            "Using Name as id variables\n",
            "\n"
          ]
        },
        {
          "output_type": "display_data",
          "data": {
            "text/html": [
              "<strong>pdf:</strong> 2"
            ],
            "text/markdown": "**pdf:** 2",
            "text/latex": "\\textbf{pdf:} 2",
            "text/plain": [
              "pdf \n",
              "  2 "
            ]
          },
          "metadata": {}
        },
        {
          "output_type": "stream",
          "name": "stderr",
          "text": [
            "Using Name as id variables\n",
            "\n"
          ]
        },
        {
          "output_type": "display_data",
          "data": {
            "text/html": [
              "<strong>pdf:</strong> 2"
            ],
            "text/markdown": "**pdf:** 2",
            "text/latex": "\\textbf{pdf:} 2",
            "text/plain": [
              "pdf \n",
              "  2 "
            ]
          },
          "metadata": {}
        }
      ]
    },
    {
      "cell_type": "code",
      "source": [
        "dir = '/content'\n",
        "all_items <- list.files(path = dir, full.names = TRUE)\n",
        "subfolders <- all_items[file.info(all_items)$isdir]\n",
        "files <- setdiff(all_items, subfolders)\n",
        "file.remove(files)\n",
        "files2zip <- dir('/content/Graphics', full.names = TRUE)\n",
        "zip(zipfile = 'Graphics.zip', files = files2zip)"
      ],
      "metadata": {
        "colab": {
          "base_uri": "https://localhost:8080/",
          "height": 34
        },
        "id": "znx6Oj87CbrL",
        "outputId": "2f83b42d-9145-4076-9a99-56141d798336"
      },
      "execution_count": 35,
      "outputs": [
        {
          "output_type": "display_data",
          "data": {
            "text/html": [
              "<style>\n",
              ".list-inline {list-style: none; margin:0; padding: 0}\n",
              ".list-inline>li {display: inline-block}\n",
              ".list-inline>li:not(:last-child)::after {content: \"\\00b7\"; padding: 0 .5ex}\n",
              "</style>\n",
              "<ol class=list-inline><li>TRUE</li><li>TRUE</li><li>TRUE</li><li>TRUE</li><li>TRUE</li><li>TRUE</li><li>TRUE</li><li>TRUE</li></ol>\n"
            ],
            "text/markdown": "1. TRUE\n2. TRUE\n3. TRUE\n4. TRUE\n5. TRUE\n6. TRUE\n7. TRUE\n8. TRUE\n\n\n",
            "text/latex": "\\begin{enumerate*}\n\\item TRUE\n\\item TRUE\n\\item TRUE\n\\item TRUE\n\\item TRUE\n\\item TRUE\n\\item TRUE\n\\item TRUE\n\\end{enumerate*}\n",
            "text/plain": [
              "[1] TRUE TRUE TRUE TRUE TRUE TRUE TRUE TRUE"
            ]
          },
          "metadata": {}
        }
      ]
    }
  ],
  "metadata": {
    "colab": {
      "provenance": [],
      "authorship_tag": "ABX9TyNByhAmpGuZpAuPQc0LUPW8",
      "include_colab_link": true
    },
    "kernelspec": {
      "display_name": "R",
      "name": "ir"
    },
    "language_info": {
      "name": "R"
    }
  },
  "nbformat": 4,
  "nbformat_minor": 0
}
